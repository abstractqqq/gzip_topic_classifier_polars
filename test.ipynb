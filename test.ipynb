{
 "cells": [
  {
   "cell_type": "code",
   "execution_count": 1,
   "metadata": {},
   "outputs": [],
   "source": [
    "import polars as pl\n",
    "import gzip\n",
    "from tqdm import tqdm"
   ]
  },
  {
   "cell_type": "code",
   "execution_count": null,
   "metadata": {},
   "outputs": [],
   "source": [
    "# You can download the dataset here\n",
    "# https://www.kaggle.com/datasets/amananandrai/ag-news-classification-dataset"
   ]
  },
  {
   "cell_type": "code",
   "execution_count": 2,
   "metadata": {},
   "outputs": [
    {
     "data": {
      "text/plain": [
       "(120000, 3)"
      ]
     },
     "execution_count": 2,
     "metadata": {},
     "output_type": "execute_result"
    }
   ],
   "source": [
    "df = pl.read_csv(\"train.csv\")\n",
    "df.shape"
   ]
  },
  {
   "cell_type": "code",
   "execution_count": 3,
   "metadata": {},
   "outputs": [
    {
     "data": {
      "text/html": [
       "<div><style>\n",
       ".dataframe > thead > tr > th,\n",
       ".dataframe > tbody > tr > td {\n",
       "  text-align: right;\n",
       "}\n",
       "</style>\n",
       "<small>shape: (4, 2)</small><table border=\"1\" class=\"dataframe\"><thead><tr><th>Class Index</th><th>count</th></tr><tr><td>i64</td><td>u32</td></tr></thead><tbody><tr><td>2</td><td>30000</td></tr><tr><td>1</td><td>30000</td></tr><tr><td>4</td><td>30000</td></tr><tr><td>3</td><td>30000</td></tr></tbody></table></div>"
      ],
      "text/plain": [
       "shape: (4, 2)\n",
       "┌─────────────┬───────┐\n",
       "│ Class Index ┆ count │\n",
       "│ ---         ┆ ---   │\n",
       "│ i64         ┆ u32   │\n",
       "╞═════════════╪═══════╡\n",
       "│ 2           ┆ 30000 │\n",
       "│ 1           ┆ 30000 │\n",
       "│ 4           ┆ 30000 │\n",
       "│ 3           ┆ 30000 │\n",
       "└─────────────┴───────┘"
      ]
     },
     "execution_count": 3,
     "metadata": {},
     "output_type": "execute_result"
    }
   ],
   "source": [
    "df.groupby(\n",
    "    pl.col(\"Class Index\")\n",
    ").count()"
   ]
  },
  {
   "cell_type": "code",
   "execution_count": 4,
   "metadata": {},
   "outputs": [
    {
     "data": {
      "text/html": [
       "<div><style>\n",
       ".dataframe > thead > tr > th,\n",
       ".dataframe > tbody > tr > td {\n",
       "  text-align: right;\n",
       "}\n",
       "</style>\n",
       "<small>shape: (5, 3)</small><table border=\"1\" class=\"dataframe\"><thead><tr><th>Class Index</th><th>Title</th><th>Description</th></tr><tr><td>i64</td><td>str</td><td>str</td></tr></thead><tbody><tr><td>3</td><td>&quot;Fears for T N …</td><td>&quot;Unions represe…</td></tr><tr><td>4</td><td>&quot;The Race is On…</td><td>&quot;SPACE.com - TO…</td></tr><tr><td>4</td><td>&quot;Ky. Company Wi…</td><td>&quot;AP - A company…</td></tr><tr><td>4</td><td>&quot;Prediction Uni…</td><td>&quot;AP - It&#x27;s bare…</td></tr><tr><td>4</td><td>&quot;Calif. Aims to…</td><td>&quot;AP - Southern …</td></tr></tbody></table></div>"
      ],
      "text/plain": [
       "shape: (5, 3)\n",
       "┌─────────────┬───────────────────────────────────┬───────────────────────────────────┐\n",
       "│ Class Index ┆ Title                             ┆ Description                       │\n",
       "│ ---         ┆ ---                               ┆ ---                               │\n",
       "│ i64         ┆ str                               ┆ str                               │\n",
       "╞═════════════╪═══════════════════════════════════╪═══════════════════════════════════╡\n",
       "│ 3           ┆ Fears for T N pension after talk… ┆ Unions representing workers at T… │\n",
       "│ 4           ┆ The Race is On: Second Private T… ┆ SPACE.com - TORONTO, Canada -- A… │\n",
       "│ 4           ┆ Ky. Company Wins Grant to Study … ┆ AP - A company founded by a chem… │\n",
       "│ 4           ┆ Prediction Unit Helps Forecast W… ┆ AP - It's barely dawn when Mike … │\n",
       "│ 4           ┆ Calif. Aims to Limit Farm-Relate… ┆ AP - Southern California's smog-… │\n",
       "└─────────────┴───────────────────────────────────┴───────────────────────────────────┘"
      ]
     },
     "execution_count": 4,
     "metadata": {},
     "output_type": "execute_result"
    }
   ],
   "source": [
    "df_test = pl.read_csv(\"test.csv\")\n",
    "df_test.head()"
   ]
  },
  {
   "cell_type": "code",
   "execution_count": 5,
   "metadata": {},
   "outputs": [],
   "source": [
    "train_set = df.select(\"Description\", \"Class Index\")\n",
    "test_set = df_test.select(\"Description\", \"Class Index\")"
   ]
  },
  {
   "cell_type": "code",
   "execution_count": 7,
   "metadata": {},
   "outputs": [],
   "source": [
    "test = test_set.with_columns(\n",
    "    compressed = pl.col('Description').apply(str.encode).apply(gzip.compress)\n",
    ").select(\n",
    "        \"Description\"\n",
    "        , \"compressed\"\n",
    "        , pl.col(\"compressed\").apply(len).alias(\"compressed_len\")\n",
    "        , \"Class Index\"\n",
    ")"
   ]
  },
  {
   "cell_type": "code",
   "execution_count": 8,
   "metadata": {},
   "outputs": [],
   "source": [
    "train = train_set.with_columns(\n",
    "    compressed = pl.col('Description').apply(str.encode).apply(gzip.compress)\n",
    ").select(\n",
    "        \"Description\"\n",
    "        , \"compressed\"\n",
    "        , pl.col(\"compressed\").apply(len).alias(\"compressed_len\")\n",
    "        , \"Class Index\"\n",
    ")"
   ]
  },
  {
   "cell_type": "code",
   "execution_count": 9,
   "metadata": {},
   "outputs": [],
   "source": [
    "def compressed_knn_vote(text:str, c_length:int, train:pl.DataFrame) -> int:\n",
    "    return train.lazy().with_columns(\n",
    "        ncd = (\n",
    "            (   \n",
    "                pl.col(\"Description\") + pl.lit(text)).apply(str.encode).apply(gzip.compress).apply(len) \n",
    "                - pl.min_horizontal(c_length, pl.col(\"compressed_len\"))\n",
    "            ) \n",
    "            / pl.max_horizontal(c_length, pl.col(\"compressed_len\")\n",
    "        )\n",
    "    ).filter(\n",
    "        pl.col(\"ncd\").arg_sort() < 3\n",
    "    ).select(\n",
    "        pl.col(\"Class Index\").mode().first()\n",
    "    ).collect().item(0,0)"
   ]
  },
  {
   "cell_type": "code",
   "execution_count": 10,
   "metadata": {},
   "outputs": [
    {
     "name": "stderr",
     "output_type": "stream",
     "text": [
      "  5%|▍         | 361/7600 [12:38<4:13:24,  2.10s/it]\n"
     ]
    },
    {
     "ename": "KeyboardInterrupt",
     "evalue": "",
     "output_type": "error",
     "traceback": [
      "\u001b[1;31m---------------------------------------------------------------------------\u001b[0m",
      "\u001b[1;31mKeyboardInterrupt\u001b[0m                         Traceback (most recent call last)",
      "Cell \u001b[1;32mIn[10], line 4\u001b[0m\n\u001b[0;32m      1\u001b[0m predictions \u001b[39m=\u001b[39m []\n\u001b[0;32m      2\u001b[0m \u001b[39mfor\u001b[39;00m des, l1 \u001b[39min\u001b[39;00m tqdm(\u001b[39mzip\u001b[39m(test[\u001b[39m\"\u001b[39m\u001b[39mDescription\u001b[39m\u001b[39m\"\u001b[39m], test[\u001b[39m\"\u001b[39m\u001b[39mcompressed_len\u001b[39m\u001b[39m\"\u001b[39m]), total\u001b[39m=\u001b[39m\u001b[39mlen\u001b[39m(test)):\n\u001b[0;32m      3\u001b[0m     predictions\u001b[39m.\u001b[39mappend(\n\u001b[1;32m----> 4\u001b[0m         compressed_knn_vote(des, l1, train)\n\u001b[0;32m      5\u001b[0m     )\n",
      "Cell \u001b[1;32mIn[9], line 14\u001b[0m, in \u001b[0;36mcompressed_knn_vote\u001b[1;34m(text, c_length, train)\u001b[0m\n\u001b[0;32m      1\u001b[0m \u001b[39mdef\u001b[39;00m \u001b[39mcompressed_knn_vote\u001b[39m(text:\u001b[39mstr\u001b[39m, c_length:\u001b[39mint\u001b[39m, train:pl\u001b[39m.\u001b[39mDataFrame) \u001b[39m-\u001b[39m\u001b[39m>\u001b[39m \u001b[39mint\u001b[39m:\n\u001b[0;32m      2\u001b[0m     \u001b[39mreturn\u001b[39;00m train\u001b[39m.\u001b[39;49mlazy()\u001b[39m.\u001b[39;49mwith_columns(\n\u001b[0;32m      3\u001b[0m         ncd \u001b[39m=\u001b[39;49m (\n\u001b[0;32m      4\u001b[0m             (   \n\u001b[0;32m      5\u001b[0m                 pl\u001b[39m.\u001b[39;49mcol(\u001b[39m\"\u001b[39;49m\u001b[39mDescription\u001b[39;49m\u001b[39m\"\u001b[39;49m) \u001b[39m+\u001b[39;49m pl\u001b[39m.\u001b[39;49mlit(text))\u001b[39m.\u001b[39;49mapply(\u001b[39mstr\u001b[39;49m\u001b[39m.\u001b[39;49mencode)\u001b[39m.\u001b[39;49mapply(gzip\u001b[39m.\u001b[39;49mcompress)\u001b[39m.\u001b[39;49mapply(\u001b[39mlen\u001b[39;49m) \n\u001b[0;32m      6\u001b[0m                 \u001b[39m-\u001b[39;49m pl\u001b[39m.\u001b[39;49mmin_horizontal(c_length, pl\u001b[39m.\u001b[39;49mcol(\u001b[39m\"\u001b[39;49m\u001b[39mcompressed_len\u001b[39;49m\u001b[39m\"\u001b[39;49m))\n\u001b[0;32m      7\u001b[0m             ) \n\u001b[0;32m      8\u001b[0m             \u001b[39m/\u001b[39;49m pl\u001b[39m.\u001b[39;49mmax_horizontal(c_length, pl\u001b[39m.\u001b[39;49mcol(\u001b[39m\"\u001b[39;49m\u001b[39mcompressed_len\u001b[39;49m\u001b[39m\"\u001b[39;49m)\n\u001b[0;32m      9\u001b[0m         )\n\u001b[0;32m     10\u001b[0m     )\u001b[39m.\u001b[39;49mfilter(\n\u001b[0;32m     11\u001b[0m         pl\u001b[39m.\u001b[39;49mcol(\u001b[39m\"\u001b[39;49m\u001b[39mncd\u001b[39;49m\u001b[39m\"\u001b[39;49m)\u001b[39m.\u001b[39;49marg_sort() \u001b[39m<\u001b[39;49m \u001b[39m3\u001b[39;49m\n\u001b[0;32m     12\u001b[0m     )\u001b[39m.\u001b[39;49mselect(\n\u001b[0;32m     13\u001b[0m         pl\u001b[39m.\u001b[39;49mcol(\u001b[39m\"\u001b[39;49m\u001b[39mClass Index\u001b[39;49m\u001b[39m\"\u001b[39;49m)\u001b[39m.\u001b[39;49mmode()\u001b[39m.\u001b[39;49mfirst()\n\u001b[1;32m---> 14\u001b[0m     )\u001b[39m.\u001b[39;49mcollect()\u001b[39m.\u001b[39mitem(\u001b[39m0\u001b[39m,\u001b[39m0\u001b[39m)\n",
      "File \u001b[1;32mc:\\Users\\qtren\\miniconda3\\envs\\my_py11\\Lib\\site-packages\\polars\\lazyframe\\frame.py:1530\u001b[0m, in \u001b[0;36mLazyFrame.collect\u001b[1;34m(self, type_coercion, predicate_pushdown, projection_pushdown, simplify_expression, no_optimization, slice_pushdown, common_subplan_elimination, streaming)\u001b[0m\n\u001b[0;32m   1519\u001b[0m     common_subplan_elimination \u001b[39m=\u001b[39m \u001b[39mFalse\u001b[39;00m\n\u001b[0;32m   1521\u001b[0m ldf \u001b[39m=\u001b[39m \u001b[39mself\u001b[39m\u001b[39m.\u001b[39m_ldf\u001b[39m.\u001b[39moptimization_toggle(\n\u001b[0;32m   1522\u001b[0m     type_coercion,\n\u001b[0;32m   1523\u001b[0m     predicate_pushdown,\n\u001b[1;32m   (...)\u001b[0m\n\u001b[0;32m   1528\u001b[0m     streaming,\n\u001b[0;32m   1529\u001b[0m )\n\u001b[1;32m-> 1530\u001b[0m \u001b[39mreturn\u001b[39;00m wrap_df(ldf\u001b[39m.\u001b[39mcollect())\n",
      "\u001b[1;31mKeyboardInterrupt\u001b[0m: "
     ]
    }
   ],
   "source": [
    "# Too slow...\n",
    "\n",
    "predictions = []\n",
    "for des, l1 in tqdm(zip(test[\"Description\"], test[\"compressed_len\"]), total=len(test)):\n",
    "    predictions.append(\n",
    "        compressed_knn_vote(des, l1, train)\n",
    "    )"
   ]
  },
  {
   "cell_type": "code",
   "execution_count": null,
   "metadata": {},
   "outputs": [],
   "source": [
    "# # Still slow.\n",
    "# import os\n",
    "# from concurrent.futures import ThreadPoolExecutor, as_completed\n",
    "\n",
    "# predictions = []\n",
    "# with ThreadPoolExecutor(max_workers=os.cpu_count()) as ex:\n",
    "#     pbar = tqdm(total=len(test))\n",
    "#     for future in as_completed(ex.submit(compressed_knn_vote, des, l1, train) \n",
    "#                                 for des, l1 in zip(test[\"Description\"], test[\"compressed_len\"])):\n",
    "        \n",
    "#         predictions.append(future.result())\n",
    "#         pbar.update(1)\n",
    "\n",
    "#     pbar.close()\n"
   ]
  },
  {
   "cell_type": "code",
   "execution_count": null,
   "metadata": {},
   "outputs": [],
   "source": [
    "# Original Code\n",
    "# I cannot get this working. It is unclear what top_k_class is, and how this has a count method.\n",
    "\n",
    "# import gzip\n",
    "# import numpy as np\n",
    "\n",
    "# k = 3\n",
    "# x1: str\n",
    "# for x1,_ in test_set:\n",
    "#     Cx1 = len(gzip.compress(x1.encode()))\n",
    "#     distance_from_x1 = []\n",
    "#     x2: str\n",
    "#     for x2,_ in train_set:\n",
    "#         Cx2 = len(gzip.compress(x2.encode()))\n",
    "#         x1x2 = \" \".join([x1,x2])\n",
    "#         Cx1x2 = len(gzip.compress(x1x2.encode()))\n",
    "#         ncd = (Cx1x2 - min(Cx1,Cx2)) / max (Cx1,Cx2)\n",
    "#         distance_from_x1.append(ncd)\n",
    "        \n",
    "#     sorted_idx = np.argsort(np.array(distance_from_x1))\n",
    "#     top_k_class = train_set[sorted_idx[:k],1]\n",
    "\n",
    "#     predict_class = max(set(top_k_class), key = top_k_class.count)"
   ]
  },
  {
   "cell_type": "code",
   "execution_count": null,
   "metadata": {},
   "outputs": [],
   "source": []
  }
 ],
 "metadata": {
  "kernelspec": {
   "display_name": "my_py11",
   "language": "python",
   "name": "python3"
  },
  "language_info": {
   "codemirror_mode": {
    "name": "ipython",
    "version": 3
   },
   "file_extension": ".py",
   "mimetype": "text/x-python",
   "name": "python",
   "nbconvert_exporter": "python",
   "pygments_lexer": "ipython3",
   "version": "3.11.3"
  },
  "orig_nbformat": 4
 },
 "nbformat": 4,
 "nbformat_minor": 2
}
